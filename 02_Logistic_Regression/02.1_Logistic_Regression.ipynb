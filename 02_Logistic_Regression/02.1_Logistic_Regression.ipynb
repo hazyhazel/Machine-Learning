{
 "cells": [
  {
   "cell_type": "markdown",
   "metadata": {},
   "source": [
    "# Logistic Regression\n",
    "\n",
    "### Sigmoid Function\n",
    "### Logistic Regression Model\n",
    "### Decision Boundary\n",
    "### Cost Function\n",
    "### Gradient Descend for Logistic Regression"
   ]
  },
  {
   "cell_type": "markdown",
   "metadata": {},
   "source": [
    "### Introduction\n",
    "Logistic Regression là một model cho output là các xác suất (probability). Logistic Regression thường được sử dụng cho bài toán phân loại (classification).  \n",
    "Giả dụ, chúng ta có data về kích thước của các khối u và khối u nào là u lành tính, u ác tính. Để phân loại một khối u dựa trên kích thước của nó, ta tính xác suất khối u đó là u ác tính, sau đó so sánh xác suất đó với một ngưỡng xác định (threshold). VD: Threshold là 0.5, nếu xác suất khối u đó ác tính là 0.34 thì khối u là u lành tính.   \n",
    "Tuy nhiên, làm thế nào để tính được xác suất là u lành tính/ác tính khi có dữ liệu về kích thước? Chúng ta dùng hàm *tanh* hoặc hàm *sigmoid*. Ở đây, mình chỉ trình bày về hàm *sigmoid*."
   ]
  },
  {
   "cell_type": "markdown",
   "metadata": {},
   "source": [
    "### Sigmoid Function\n",
    "*sigmoid* function, hay còn gọi là logistic function, là một hàm map các giá trị dự đoán đến giá trị xác suất từ 0 đến 1.  \n",
    "Công thức:\n",
    "$$g(z)=\\frac{1}{1+e^{-z}}$$\n",
    "Xét các trường hợp:   \n",
    "$z \\rightarrow \\infty \\Rightarrow g(z) \\rightarrow 1$   \n",
    "$z \\rightarrow -\\infty \\Rightarrow g(z) \\rightarrow 0$    \n",
    "$z = 0 \\Rightarrow g(z) = 0.5$  \n",
    "![graph: sigmoid function and its derivative](image.png)"
   ]
  },
  {
   "cell_type": "markdown",
   "metadata": {},
   "source": [
    "### Logistic Regression Model\n"
   ]
  }
 ],
 "metadata": {
  "language_info": {
   "name": "python"
  }
 },
 "nbformat": 4,
 "nbformat_minor": 2
}
